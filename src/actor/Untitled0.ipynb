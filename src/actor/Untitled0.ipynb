{
 "metadata": {
  "name": "",
  "signature": "sha256:5241b78f18b11024c2a886a7e0ed5bfac2ce62c03ec465bc63f3e3f3a333eea7"
 },
 "nbformat": 3,
 "nbformat_minor": 0,
 "worksheets": [
  {
   "cells": [
    {
     "cell_type": "code",
     "collapsed": false,
     "input": [
      "import json\n",
      "import zmq"
     ],
     "language": "python",
     "metadata": {},
     "outputs": [],
     "prompt_number": 30
    },
    {
     "cell_type": "code",
     "collapsed": false,
     "input": [
      "# Message Types\n",
      "MATCH = 'match'\n",
      "MATCH_LIST = 'match list'"
     ],
     "language": "python",
     "metadata": {},
     "outputs": [],
     "prompt_number": 15
    },
    {
     "cell_type": "code",
     "collapsed": false,
     "input": [
      "server_ip = raw_input()\n"
     ],
     "language": "python",
     "metadata": {},
     "outputs": [
      {
       "name": "stdout",
       "output_type": "stream",
       "stream": "stdout",
       "text": [
        "localhost:5678\n"
       ]
      }
     ],
     "prompt_number": 25
    },
    {
     "cell_type": "code",
     "collapsed": false,
     "input": [
      "class Server:\n",
      "    def __init__(self, socket):\n",
      "        # ZeroMQ Context\n",
      "        context = zmq.Context()\n",
      "\n",
      "        # Define the socket using the \"Context\"\n",
      "        sock = context.socket(zmq.REP)\n",
      "        sock.bind(socket)\n",
      "\n",
      "        # Run a simple \"Echo\" server\n",
      "        while True:\n",
      "            message = sock.recv()\n",
      "            sock.send(\"Echo: \" + message)\n",
      "            print \"Echo: \" + message"
     ],
     "language": "python",
     "metadata": {},
     "outputs": []
    },
    {
     "cell_type": "code",
     "collapsed": false,
     "input": [
      "class Client:\n",
      "    def __init__(self, dest):\n",
      "        # ZeroMQ Context\n",
      "        context = zmq.Context()\n",
      "\n",
      "        # Define the socket using the \"Context\"\n",
      "        sock = context.socket(zmq.REP)\n",
      "        sock.bind(\"tcp://127.0.0.1:5679\")\n",
      "\n",
      "        # Run a simple \"Echo\" server\n",
      "        while True:\n",
      "            message = sock.recv()\n",
      "            sock.send(\"Echo: \" + message)\n",
      "            print \"Echo: \" + message"
     ],
     "language": "python",
     "metadata": {},
     "outputs": []
    }
   ],
   "metadata": {}
  }
 ]
}