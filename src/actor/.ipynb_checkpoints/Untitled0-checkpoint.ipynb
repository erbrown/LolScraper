{
 "metadata": {
  "name": "",
  "signature": "sha256:893653a5a9ae7c9fbaa9aed2aadd2ef75e89d5df1c28f146d3894c0befabfbe8"
 },
 "nbformat": 3,
 "nbformat_minor": 0,
 "worksheets": []
}