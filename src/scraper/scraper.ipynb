{
 "cells": [
  {
   "cell_type": "code",
   "execution_count": 81,
   "metadata": {
    "collapsed": false
   },
   "outputs": [],
   "source": [
    "from pymongo import MongoClient\n",
    "import pymongo\n",
    "import riotwatcher as rw\n",
    "from riotwatcher import RiotWatcher\n",
    "import time\n",
    "import progressbar"
   ]
  },
  {
   "cell_type": "code",
   "execution_count": 82,
   "metadata": {
    "collapsed": false
   },
   "outputs": [],
   "source": [
    "DATA_DB = \"data\"\n",
    "GAME_TABLE = \"games\"\n",
    "SUMMONER_TABLE = \"summoners\"\n",
    "QUEUES = \"queues\"\n",
    "GAME_QUEUE = \"game_queue\"\n",
    "SUMMONER_QUEUE = \"summoner_queue\"\n",
    "QUEUE_NAME = \"summoner_queue\"\n",
    "URL = \"192.168.5.100\"\n",
    "REGION = rw.NORTH_AMERICA"
   ]
  },
  {
   "cell_type": "code",
   "execution_count": 72,
   "metadata": {
    "collapsed": false
   },
   "outputs": [
    {
     "name": "stdout",
     "output_type": "stream",
     "text": [
      "Please enter your Riot key: 45fbe47f-84f1-43b6-9394-9f433a23d522\n",
      "Please enter number of games to scrape: 10\n"
     ]
    }
   ],
   "source": [
    "key = raw_input(\"Please enter your Riot key: \")\n",
    "target_num = input(\"Please enter number of games to scrape: \")\n",
    "watcher = RiotWatcher(key)\n",
    "# frodo621 key: \n",
    "# 45fbe47f-84f1-43b6-9394-9f433a23d522"
   ]
  },
  {
   "cell_type": "code",
   "execution_count": 143,
   "metadata": {
    "collapsed": false
   },
   "outputs": [],
   "source": [
    "class MongoDBQueue:\n",
    "    def __init__(self, db, collection, url=\"127.0.0.1\", port=\"27017\"):\n",
    "        self.url = url\n",
    "        self.port = port\n",
    "        self.db = db\n",
    "        self.collection = collection\n",
    "        self.connection = MongoClient(\"mongodb://\"+url+\":\"+port)\n",
    "        \n",
    "        self.queue = self.connection[self.db][self.collection]\n",
    "        \n",
    "    def pop(self):\n",
    "        return self.queue.find_one_and_delete({},None,[(\"_id\",pymongo.ASCENDING)])[\"id\"]\n",
    "        #return self.connection[self.db].command(\"findandmodify\", self.collection, query = {}, sort = {\"_id\": pymongo.ASCENDING}, remove=True)\n",
    "        \n",
    "    def push(self, i):\n",
    "        check = self.queue.find_one({\"id\":i})\n",
    "        if check == None:\n",
    "            self.queue.insert({\"id\":i})\n",
    "            return True\n",
    "        return False\n",
    "        #return self.connection[self.db].command(\"insert\", self.collection, doc)\n",
    "        \n",
    "db_summoner_queue = MongoDBQueue(QUEUES, SUMMONER_QUEUE)\n",
    "db_game_queue = MongoDBQueue(QUEUES, GAME_QUEUE)\n",
    "    "
   ]
  },
  {
   "cell_type": "code",
   "execution_count": 136,
   "metadata": {
    "collapsed": true
   },
   "outputs": [],
   "source": [
    "class MongoDBSafe:\n",
    "    def __init__(self, db, collection, url=\"127.0.0.1\", port=\"27017\"):\n",
    "        self.url = url\n",
    "        self.port = port\n",
    "        self.db = db\n",
    "        self.collection = collection\n",
    "        self.connection = MongoClient(\"mongodb://\"+url+\":\"+port)\n",
    "        \n",
    "    def push(self, doc):\n",
    "        return self.connection[self.db][self.collection].insert(doc)\n",
    "    \n",
    "    def get(self, doc):\n",
    "        return self.connection[self.db][self.collection].find_one(doc)\n",
    "    \n",
    "db_games_table = MongoDBSafe(DATA_DB, GAME_TABLE)\n",
    "db_summoners_table = MongoDBSafe(DATA_DB, SUMMONER_TABLE)"
   ]
  },
  {
   "cell_type": "code",
   "execution_count": 141,
   "metadata": {
    "collapsed": false
   },
   "outputs": [],
   "source": [
    "def wait_for_request():\n",
    "    while not watcher.can_make_request():\n",
    "        time.sleep(0.1)\n",
    "\n",
    "def get_summoners_from_queue(num):\n",
    "    # replace with a single query\n",
    "    for i in range(0,num):\n",
    "        summoner_queue.append(db_summoner_queue.pop())\n",
    "    \n",
    "def query_summoner(summoner_id):\n",
    "    print \"query summoner\"\n",
    "    # get the basic information for that summoner\n",
    "    wait_for_request()\n",
    "    summoner_info = watcher.get_summoner( _id = summoner_id )\n",
    "    db_summoners_table.push(summoner_info)\n",
    "    \n",
    "    # get the match history for that summoner\n",
    "    # TO DO: scrape more matches per summoner\n",
    "    wait_for_request()\n",
    "    match_history = watcher.get_match_history(summoner_id, \n",
    "                                              region=REGION, \n",
    "                                              champion_ids = None, \n",
    "                                              ranked_queues=rw.solo_queue,\n",
    "                                              begin_index=None,\n",
    "                                              end_index=None)\n",
    "    \n",
    "    # get the matches in that history and push them onto the queue\n",
    "    match_ids = map(lambda x: x[\"matchId\"], match_history[\"matches\"])\n",
    "    for match_id in match_ids:\n",
    "        if not db_games_table.get({\"_id\":match_id}):\n",
    "            game_queue.append(match_id)\n",
    "        \n",
    "        \n",
    "    \n",
    "def scrape_game(match_id):\n",
    "    print \"scraping game\"\n",
    "    # get match data using riot api\n",
    "    wait_for_request()\n",
    "    match_data = watcher.get_match(match_id, region=REGION, include_timeline=True)\n",
    "    # add in _id field\n",
    "    match_data[\"_id\"] = match_data[\"matchId\"]\n",
    "    \n",
    "    \n",
    "    # push the game data to the database\n",
    "    db_games_table.push(match_data)\n",
    "    \n",
    "    # find summoners in the match and push them to the queue\n",
    "    player_ids = map(lambda x: x[\"player\"][\"summonerId\"], match_data[\"participantIdentities\"])\n",
    "    for player_id in player_ids:\n",
    "        db_summoner_queue.push(player_id)"
   ]
  },
  {
   "cell_type": "code",
   "execution_count": 144,
   "metadata": {
    "collapsed": false
   },
   "outputs": [
    {
     "name": "stdout",
     "output_type": "stream",
     "text": [
      "query summoner\n",
      "scraping game\n",
      "1\n",
      "scraping game\n",
      "2\n",
      "scraping game\n",
      "3\n",
      "scraping game\n",
      "4\n",
      "scraping game\n",
      "5\n",
      "scraping game\n",
      "6\n",
      "scraping game\n",
      "7\n",
      "scraping game\n",
      "8\n",
      "scraping game\n",
      "9\n",
      "scraping game\n",
      "10\n"
     ]
    }
   ],
   "source": [
    "game_queue = []\n",
    "summoner_queue = []\n",
    "games_scraped = 0\n",
    "\n",
    "while games_scraped < target_num:\n",
    "    if len(summoner_queue) == 0 and len(game_queue) == 0:\n",
    "        get_summoners_from_queue(1)\n",
    "    if len(game_queue) == 0:\n",
    "        query_summoner(int(summoner_queue.pop()))\n",
    "    if len(game_queue) > 0:\n",
    "        scrape_game(game_queue.pop())\n",
    "        games_scraped += 1\n",
    "        print games_scraped\n",
    "        "
   ]
  },
  {
   "cell_type": "code",
   "execution_count": 90,
   "metadata": {
    "collapsed": false
   },
   "outputs": [
    {
     "data": {
      "text/plain": [
       "[1828048087,\n",
       " 1828686812,\n",
       " 1828792409,\n",
       " 1829204304,\n",
       " 1829242475,\n",
       " 1830168387,\n",
       " 1830531922,\n",
       " 1837105005,\n",
       " 1845114905]"
      ]
     },
     "execution_count": 90,
     "metadata": {},
     "output_type": "execute_result"
    }
   ],
   "source": [
    "game_queue"
   ]
  },
  {
   "cell_type": "code",
   "execution_count": 116,
   "metadata": {
    "collapsed": false
   },
   "outputs": [
    {
     "name": "stdout",
     "output_type": "stream",
     "text": [
      "{u'_id': ObjectId('557c8f4fa9833e59635b87d1'), u'id': 23376539.0}\n"
     ]
    }
   ],
   "source": [
    "print db_summoner_queue.queue.find_one({\"id\":23376539})"
   ]
  },
  {
   "cell_type": "code",
   "execution_count": null,
   "metadata": {
    "collapsed": true
   },
   "outputs": [],
   "source": []
  }
 ],
 "metadata": {
  "kernelspec": {
   "display_name": "Python 2",
   "language": "python",
   "name": "python2"
  },
  "language_info": {
   "codemirror_mode": {
    "name": "ipython",
    "version": 2
   },
   "file_extension": ".py",
   "mimetype": "text/x-python",
   "name": "python",
   "nbconvert_exporter": "python",
   "pygments_lexer": "ipython2",
   "version": "2.7.10"
  }
 },
 "nbformat": 4,
 "nbformat_minor": 0
}
