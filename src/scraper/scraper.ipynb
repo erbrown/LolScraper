{
 "cells": [
  {
   "cell_type": "code",
   "execution_count": 2,
   "metadata": {
    "collapsed": false
   },
   "outputs": [],
   "source": [
    "from pymongo import MongoClient\n",
    "import pymongo\n",
    "from riotwatcher import RiotWatcher"
   ]
  },
  {
   "cell_type": "code",
   "execution_count": 50,
   "metadata": {
    "collapsed": true
   },
   "outputs": [],
   "source": [
    "DATA_DB = \"data\"\n",
    "GAME_TABLE = \"games\"\n",
    "SUMMONER_TABLE = \"summoners\"\n",
    "QUEUES = \"queues\"\n",
    "GAME_QUEUE = \"game_queue\"\n",
    "SUMMONER_QUEUE = \"summoner_queue\"\n",
    "QUEUE_NAME = \"summoner_queue\"\n",
    "URL = \"192.168.5.100\""
   ]
  },
  {
   "cell_type": "code",
   "execution_count": 4,
   "metadata": {
    "collapsed": false
   },
   "outputs": [],
   "source": [
    "#key = raw_input(\"Please enter your Riot key: \")\n",
    "#target_num = input(\"Please enter number of games to scrape: \")\n",
    "#watcher = RiotWatcher(key)"
   ]
  },
  {
   "cell_type": "code",
   "execution_count": 5,
   "metadata": {
    "collapsed": true
   },
   "outputs": [],
   "source": [
    "def get_summoner_queue():\n",
    "    \n",
    "    return client[DATABASE_NAME][QUEUE_NAME]"
   ]
  },
  {
   "cell_type": "code",
   "execution_count": 6,
   "metadata": {
    "collapsed": false
   },
   "outputs": [
    {
     "name": "stdout",
     "output_type": "stream",
     "text": [
      "Collection(Database(MongoClient('192.168.5.100', 27017), u'test'), u'summoner_queue')\n",
      "<class 'pymongo.collection.Collection'>\n",
      "summoner_queue\n"
     ]
    }
   ],
   "source": [
    "test = get_summoner_queue()\n",
    "print test\n",
    "print type(test)\n",
    "print test.name\n",
    "for x in test.find():\n",
    "    print x"
   ]
  },
  {
   "cell_type": "code",
   "execution_count": 16,
   "metadata": {
    "collapsed": false
   },
   "outputs": [
    {
     "data": {
      "text/plain": [
       "{u'lastErrorObject': {u'connectionId': 12, u'err': None, u'n': 1, u'ok': 1.0},\n",
       " u'ok': 1.0,\n",
       " u'value': {u'_id': ObjectId('556f88175a55a64de122aa7a'), u'id': 23376539}}"
      ]
     },
     "execution_count": 16,
     "metadata": {},
     "output_type": "execute_result"
    }
   ],
   "source": [
    "client = MongoClient('mongodb://'+URL)\n",
    "get_next_in_queue(client[QUEUES], SUMMONER_QUEUE)"
   ]
  },
  {
   "cell_type": "code",
   "execution_count": 17,
   "metadata": {
    "collapsed": false
   },
   "outputs": [
    {
     "ename": "NameError",
     "evalue": "name 'get_summoners_from_queue' is not defined",
     "output_type": "error",
     "traceback": [
      "\u001b[0;31m---------------------------------------------------------------------------\u001b[0m",
      "\u001b[0;31mNameError\u001b[0m                                 Traceback (most recent call last)",
      "\u001b[0;32m<ipython-input-17-5f95a8c94b37>\u001b[0m in \u001b[0;36m<module>\u001b[0;34m()\u001b[0m\n\u001b[1;32m      3\u001b[0m \u001b[0;32mwhile\u001b[0m \u001b[0mTrue\u001b[0m\u001b[0;34m:\u001b[0m\u001b[0;34m\u001b[0m\u001b[0m\n\u001b[1;32m      4\u001b[0m     \u001b[0;32mif\u001b[0m \u001b[0mlen\u001b[0m\u001b[0;34m(\u001b[0m\u001b[0msummoner_queue\u001b[0m\u001b[0;34m)\u001b[0m \u001b[0;34m==\u001b[0m \u001b[0;36m0\u001b[0m\u001b[0;34m:\u001b[0m\u001b[0;34m\u001b[0m\u001b[0m\n\u001b[0;32m----> 5\u001b[0;31m         \u001b[0mget_summoners_from_queue\u001b[0m\u001b[0;34m(\u001b[0m\u001b[0;36m10\u001b[0m\u001b[0;34m)\u001b[0m\u001b[0;34m\u001b[0m\u001b[0m\n\u001b[0m\u001b[1;32m      6\u001b[0m     \u001b[0;32mif\u001b[0m \u001b[0mlen\u001b[0m\u001b[0;34m(\u001b[0m\u001b[0mgame_queue\u001b[0m\u001b[0;34m)\u001b[0m \u001b[0;34m==\u001b[0m \u001b[0;36m0\u001b[0m\u001b[0;34m:\u001b[0m\u001b[0;34m\u001b[0m\u001b[0m\n\u001b[1;32m      7\u001b[0m         \u001b[0mget_games_from_summoner\u001b[0m\u001b[0;34m(\u001b[0m\u001b[0msummoner_queue\u001b[0m\u001b[0;34m.\u001b[0m\u001b[0mpop\u001b[0m\u001b[0;34m(\u001b[0m\u001b[0;34m)\u001b[0m\u001b[0;34m)\u001b[0m\u001b[0;34m\u001b[0m\u001b[0m\n",
      "\u001b[0;31mNameError\u001b[0m: name 'get_summoners_from_queue' is not defined"
     ]
    }
   ],
   "source": [
    "game_queue = []\n",
    "summoner_queue = []\n",
    "while True:\n",
    "    if len(summoner_queue) == 0:\n",
    "        get_summoners_from_queue(10)\n",
    "    if len(game_queue) == 0:\n",
    "        get_games_from_summoner(summoner_queue.pop())\n",
    "    if len(game_queue) > 0:\n",
    "        scrape_game(game_queue.pop())\n",
    "        "
   ]
  },
  {
   "cell_type": "code",
   "execution_count": 100,
   "metadata": {
    "collapsed": false
   },
   "outputs": [],
   "source": [
    "class MongoDBQueue:\n",
    "    def __init__(self, db, collection, url=\"127.0.0.1\", port=\"27017\"):\n",
    "        self.url = url\n",
    "        self.port = port\n",
    "        self.db = db\n",
    "        self.collection = collection\n",
    "        self.connection = MongoClient(\"mongodb://\"+url+\":\"+port)\n",
    "        \n",
    "    def pop(self):\n",
    "        return self.connection[self.db][self.collection].find_one_and_delete({},None,[(\"_id\",pymongo.ASCENDING)])\n",
    "        #return self.connection[self.db].command(\"findandmodify\", self.collection, query = {}, sort = {\"_id\": pymongo.ASCENDING}, remove=True)\n",
    "        \n",
    "    def push(self, doc):\n",
    "        return self.connection[self.db][self.collection].insert(doc)\n",
    "        #return self.connection[self.db].command(\"insert\", self.collection, doc)\n",
    "    "
   ]
  },
  {
   "cell_type": "code",
   "execution_count": 101,
   "metadata": {
    "collapsed": false
   },
   "outputs": [],
   "source": [
    "summoner_queue = MongoDBQueue(QUEUES, SUMMONER_QUEUE)\n",
    "game_queue = MongoDBQueue(QUEUES, GAME_QUEUE)"
   ]
  },
  {
   "cell_type": "code",
   "execution_count": 103,
   "metadata": {
    "collapsed": false
   },
   "outputs": [
    {
     "name": "stdout",
     "output_type": "stream",
     "text": [
      "{u'_id': ObjectId('556f97f85a55a64d83c9f008'), u'id': 2}\n"
     ]
    }
   ],
   "source": [
    "summoner_queue.push({\"id\":1})\n",
    "summoner_queue.push({\"id\":2})\n",
    "print summoner_queue.pop()"
   ]
  },
  {
   "cell_type": "code",
   "execution_count": null,
   "metadata": {
    "collapsed": true
   },
   "outputs": [],
   "source": [
    "class MongoDBReadOnly:\n",
    "    def __init__(self, db, collection, url=\"127.0.0.1\", port=\"27017\"):\n",
    "        self.url = url\n",
    "        self.port = port\n",
    "        self.db = db\n",
    "        self.collection = collection\n",
    "        self.connection = MongoClient(\"mongodb://\"+url+\":\"+port)\n",
    "        \n",
    "    def push(self, doc):\n",
    "        return self.connection[self.db][self.collection].insert(doc)\n",
    "    \n",
    "    def get(self):\n",
    "        return self.connection[self.db][self.collection].find_one({})\n"
   ]
  },
  {
   "cell_type": "code",
   "execution_count": 68,
   "metadata": {
    "collapsed": false
   },
   "outputs": [],
   "source": [
    "games_table = MongoDBReadOnly(DATA_DB, GAME_TABLE)\n",
    "summoners_table = MongoDBReadOnly(DATA_DB, SUMMONER_TABLE)"
   ]
  },
  {
   "cell_type": "code",
   "execution_count": 69,
   "metadata": {
    "collapsed": false
   },
   "outputs": [
    {
     "data": {
      "text/plain": [
       "ObjectId('556f954b5a55a64d83c9effe')"
      ]
     },
     "execution_count": 69,
     "metadata": {},
     "output_type": "execute_result"
    }
   ],
   "source": [
    "games_table.push({\"matchID\":13})"
   ]
  },
  {
   "cell_type": "code",
   "execution_count": 70,
   "metadata": {
    "collapsed": false
   },
   "outputs": [
    {
     "data": {
      "text/plain": [
       "{u'_id': ObjectId('556f94b65a55a64d83c9effa'), u'matchID': 13}"
      ]
     },
     "execution_count": 70,
     "metadata": {},
     "output_type": "execute_result"
    }
   ],
   "source": [
    "games_table.get()"
   ]
  },
  {
   "cell_type": "code",
   "execution_count": null,
   "metadata": {
    "collapsed": true
   },
   "outputs": [],
   "source": []
  }
 ],
 "metadata": {
  "kernelspec": {
   "display_name": "Python 2",
   "language": "python",
   "name": "python2"
  },
  "language_info": {
   "codemirror_mode": {
    "name": "ipython",
    "version": 2
   },
   "file_extension": ".py",
   "mimetype": "text/x-python",
   "name": "python",
   "nbconvert_exporter": "python",
   "pygments_lexer": "ipython2",
   "version": "2.7.10"
  }
 },
 "nbformat": 4,
 "nbformat_minor": 0
}
