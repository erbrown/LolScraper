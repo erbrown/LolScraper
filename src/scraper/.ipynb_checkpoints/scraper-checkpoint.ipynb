{
 "cells": [
  {
   "cell_type": "code",
   "execution_count": null,
   "metadata": {
    "collapsed": false
   },
   "outputs": [],
   "source": [
    "from pymongo import MongoClient\n",
    "import pymongo\n",
    "from riotwatcher import RiotWatcher"
   ]
  },
  {
   "cell_type": "code",
   "execution_count": null,
   "metadata": {
    "collapsed": true
   },
   "outputs": [],
   "source": [
    "DATABASE_NAME = \"test\"\n",
    "QUEUE_NAME = \"summoner_queue\"\n",
    "URL = \"192.168.5.100\""
   ]
  },
  {
   "cell_type": "code",
   "execution_count": null,
   "metadata": {
    "collapsed": false
   },
   "outputs": [],
   "source": [
    "key = raw_input(\"Please enter your Riot key: \")\n",
    "target_num = input(\"Please enter number of games to scrape: \")\n",
    "watcher = RiotWatcher(key)"
   ]
  },
  {
   "cell_type": "code",
   "execution_count": null,
   "metadata": {
    "collapsed": true
   },
   "outputs": [],
   "source": [
    "def get_summoner_queue():\n",
    "    client = MongoClient('mongodb://'+URL)\n",
    "    \n",
    "    return client[DATABASE_NAME][QUEUE_NAME]"
   ]
  },
  {
   "cell_type": "code",
   "execution_count": null,
   "metadata": {
    "collapsed": false
   },
   "outputs": [],
   "source": [
    "test = get_summoner_queue()\n",
    "print test\n",
    "print type(test)\n",
    "print test.name\n",
    "for x in test.find():\n",
    "    print x"
   ]
  },
  {
   "cell_type": "code",
   "execution_count": null,
   "metadata": {
    "collapsed": true
   },
   "outputs": [],
   "source": [
    "def get_next_in_queue(queue):\n",
    "    return queue.command(\"findandmodify\", \"summonerQueue\", query = {\"queue\": \"summonerId\"}, sort = {\"_id\": pymongo.ASCENDING}, remove=True)"
   ]
  },
  {
   "cell_type": "code",
   "execution_count": null,
   "metadata": {
    "collapsed": true
   },
   "outputs": [],
   "source": []
  }
 ],
 "metadata": {
  "kernelspec": {
   "display_name": "Python 2",
   "language": "python",
   "name": "python2"
  },
  "language_info": {
   "codemirror_mode": {
    "name": "ipython",
    "version": 2
   },
   "file_extension": ".py",
   "mimetype": "text/x-python",
   "name": "python",
   "nbconvert_exporter": "python",
   "pygments_lexer": "ipython2",
   "version": "2.7.10"
  }
 },
 "nbformat": 4,
 "nbformat_minor": 0
}
