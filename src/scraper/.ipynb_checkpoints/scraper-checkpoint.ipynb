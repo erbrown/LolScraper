{
 "cells": [
  {
   "cell_type": "code",
   "execution_count": null,
   "metadata": {
    "collapsed": false
   },
   "outputs": [],
   "source": [
    "from pymongo import MongoClient\n",
    "import pymongo\n",
    "from riotwatcher import RiotWatcher"
   ]
  },
  {
   "cell_type": "code",
   "execution_count": null,
   "metadata": {
    "collapsed": true
   },
   "outputs": [],
   "source": [
    "DATA_DB = \"data\"\n",
    "GAME_TABLE = \"games\"\n",
    "SUMMONER_TABLE = \"summoners\"\n",
    "QUEUES = \"queues\"\n",
    "GAME_QUEUE = \"game_queue\"\n",
    "SUMMONER_QUEUE = \"summoner_queue\"\n",
    "QUEUE_NAME = \"summoner_queue\"\n",
    "URL = \"192.168.5.100\""
   ]
  },
  {
   "cell_type": "code",
   "execution_count": null,
   "metadata": {
    "collapsed": false
   },
   "outputs": [],
   "source": [
    "#key = raw_input(\"Please enter your Riot key: \")\n",
    "#target_num = input(\"Please enter number of games to scrape: \")\n",
    "#watcher = RiotWatcher(key)"
   ]
  },
  {
   "cell_type": "code",
   "execution_count": null,
   "metadata": {
    "collapsed": false
   },
   "outputs": [],
   "source": [
    "client = MongoClient('mongodb://'+URL)\n",
    "get_next_in_queue(client[QUEUES], SUMMONER_QUEUE)"
   ]
  },
  {
   "cell_type": "code",
   "execution_count": null,
   "metadata": {
    "collapsed": true
   },
   "outputs": [],
   "source": [
    "riot_key = input('Enter riot key: ')\n",
    "watcher = RiotWatcher(riot_key)"
   ]
  },
  {
   "cell_type": "code",
   "execution_count": null,
   "metadata": {
    "collapsed": false
   },
   "outputs": [],
   "source": [
    "local_game_queue = []\n",
    "local_summoner_queue = []\n",
    "while True:\n",
    "    if len(local_summoner_queue) == 0:\n",
    "        local_summoner_queue = get_summoners_from_queue(10)\n",
    "    if len(local_game_queue) == 0:\n",
    "        summoner, match_ids = scrape_summoner(local_summoner_queue.pop())\n",
    "        summoners_table.push(summoner)\n",
    "        local_game_queue.append(match_ids)\n",
    "    if len(local_game_queue) > 0:\n",
    "        game, summoners = scrape_game(local_game_queue.pop())\n",
    "        add_summoners_to_queue(summoners) # should this and the other one be class functions?\n",
    "        games_table.push(game)\n",
    "        "
   ]
  },
  {
   "cell_type": "code",
   "execution_count": null,
   "metadata": {
    "collapsed": true
   },
   "outputs": [],
   "source": [
    "def scrape_summoner(summoner_id):\n",
    "    \"\"\" Given a summoner id, query riot for the summoner's profile and most recent games.\n",
    "    \n",
    "    Returns a dict containing the summoner and a list containing the ids of the summoner's most recent games.\n",
    "    \"\"\"\n",
    "    summoner = watcher.get_summoner(_id=summoner_id)\n",
    "    matches = watcher.get_match_history(summoner_id, ranked_queues = 'RANKED_SOLO_5x5')['matches']\n",
    "    match_ids = [x['matchId'] for x in matches]\n",
    "    return summoner, match_ids"
   ]
  },
  {
   "cell_type": "code",
   "execution_count": null,
   "metadata": {
    "collapsed": true
   },
   "outputs": [],
   "source": [
    "def scrape_game(match_id):\n",
    "    \"\"\" Given a match id, query riot for the match details (including timeline) and ids of participating summoners.\n",
    "    \n",
    "    Returns a dict containing the game and a list containing the ids of summoners in the game.\n",
    "    \"\"\"\n",
    "    game = watcher.get_match(match_id, include_timeline = True)\n",
    "    summoners = [game['participantIdentities'][x]['player']['summonerId'] for x in range(len(game['participantIdentities']))]\n",
    "    # fix this list comprehension?\n",
    "    return game, summoners"
   ]
  },
  {
   "cell_type": "code",
   "execution_count": null,
   "metadata": {
    "collapsed": false
   },
   "outputs": [],
   "source": [
    "class MongoDBQueue:\n",
    "    def __init__(self, db, collection, url=\"127.0.0.1\", port=\"27017\"):\n",
    "        self.url = url\n",
    "        self.port = port\n",
    "        self.db = db\n",
    "        self.collection = collection\n",
    "        self.connection = MongoClient(\"mongodb://\"+url+\":\"+port)\n",
    "        \n",
    "    def pop(self):\n",
    "        return self.connection[self.db][self.collection].find_one_and_delete({},None,[(\"_id\",pymongo.ASCENDING)])\n",
    "        #return self.connection[self.db].command(\"findandmodify\", self.collection, query = {}, sort = {\"_id\": pymongo.ASCENDING}, remove=True)\n",
    "        \n",
    "    def push(self, doc):\n",
    "        return self.connection[self.db][self.collection].insert(doc)\n",
    "        #return self.connection[self.db].command(\"insert\", self.collection, doc)\n",
    "    "
   ]
  },
  {
   "cell_type": "code",
   "execution_count": null,
   "metadata": {
    "collapsed": false
   },
   "outputs": [],
   "source": [
    "db_summoner_queue = MongoDBQueue(QUEUES, SUMMONER_QUEUE)\n",
    "db_game_queue = MongoDBQueue(QUEUES, GAME_QUEUE)"
   ]
  },
  {
   "cell_type": "code",
   "execution_count": null,
   "metadata": {
    "collapsed": false
   },
   "outputs": [],
   "source": [
    "summoner_queue.push({\"id\":1})\n",
    "summoner_queue.push({\"id\":2})\n",
    "print summoner_queue.pop()"
   ]
  },
  {
   "cell_type": "code",
   "execution_count": null,
   "metadata": {
    "collapsed": true
   },
   "outputs": [],
   "source": [
    "class MongoDBReadOnly:\n",
    "    def __init__(self, db, collection, url=\"127.0.0.1\", port=\"27017\"):\n",
    "        self.url = url\n",
    "        self.port = port\n",
    "        self.db = db\n",
    "        self.collection = collection\n",
    "        self.connection = MongoClient(\"mongodb://\"+url+\":\"+port)\n",
    "        \n",
    "    def push(self, doc):\n",
    "        return self.connection[self.db][self.collection].insert(doc)\n",
    "    \n",
    "    def get(self):\n",
    "        return self.connection[self.db][self.collection].find_one({})\n"
   ]
  },
  {
   "cell_type": "code",
   "execution_count": null,
   "metadata": {
    "collapsed": false
   },
   "outputs": [],
   "source": [
    "games_table = MongoDBReadOnly(DATA_DB, GAME_TABLE)\n",
    "summoners_table = MongoDBReadOnly(DATA_DB, SUMMONER_TABLE)"
   ]
  },
  {
   "cell_type": "code",
   "execution_count": null,
   "metadata": {
    "collapsed": false
   },
   "outputs": [],
   "source": [
    "games_table.push({\"matchID\":13})"
   ]
  },
  {
   "cell_type": "code",
   "execution_count": null,
   "metadata": {
    "collapsed": false
   },
   "outputs": [],
   "source": [
    "games_table.get()"
   ]
  },
  {
   "cell_type": "code",
   "execution_count": null,
   "metadata": {
    "collapsed": true
   },
   "outputs": [],
   "source": []
  }
 ],
 "metadata": {
  "kernelspec": {
   "display_name": "Python 2",
   "language": "python",
   "name": "python2"
  },
  "language_info": {
   "codemirror_mode": {
    "name": "ipython",
    "version": 2
   },
   "file_extension": ".py",
   "mimetype": "text/x-python",
   "name": "python",
   "nbconvert_exporter": "python",
   "pygments_lexer": "ipython2",
   "version": "2.7.9"
  }
 },
 "nbformat": 4,
 "nbformat_minor": 0
}
